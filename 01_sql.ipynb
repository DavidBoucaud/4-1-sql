{
 "cells": [
  {
   "cell_type": "markdown",
   "metadata": {
    "collapsed": true
   },
   "source": [
    "# SQL\n",
    "\n",
    "[SQL](https://en.wikipedia.org/wiki/SQL) is a domain-specific language used in programming and designed for managing data held in a relational database. \n",
    "\n",
    "\n",
    "A relational database is a database that stores related information across multiple tables and allows you to query information in more than one table at the same time. \n",
    "\n",
    "Within a table, the data to be stored is organized in a tabular format with rows and columns. Each row inside a table represents a distinct record with the column headings specifying the corresponding type of data stored. S\n",
    "\n",
    "There are many DB systems available like MySQL, PostgreSQL, Oracle Database (don't use this), MS SQL Server, Amazon Redshift, etc. However, all of them speak SQL, so once you've got the hang of the basic SQL syntax you'll be able to work with any of them.\n",
    "\n",
    "To keep things simple, we will be using a database system called [SQLite](https://www.sqlite.org/about.html) to practice SQL syntax. \n",
    "\n",
    "Unlike most other SQL databases, SQLite does not have a separate server. SQLite reads and writes directly to ordinary files on your computer. A complete SQL database with multiple tables, etc., is contained in a single file.\n",
    "\n",
    "### Resources\n",
    "\n",
    "Since SQL is the main database language used worldwide, there are plenty of resources to master it:\n",
    "\n",
    "- https://sqlzoo.net/\n",
    "\n",
    "- https://sqlbolt.com\n",
    "\n",
    "- leetcode.com\n",
    "\n",
    "- https://www.sql-ex.ru/learn_exercises.php\n",
    "\n",
    "# Using Raw SQL cursor connections"
   ]
  },
  {
   "cell_type": "code",
   "execution_count": 1,
   "metadata": {
    "collapsed": true
   },
   "outputs": [],
   "source": [
    "import sqlite3\n",
    "conn = sqlite3.connect('data/mtcars.sqlite')\n",
    "c = conn.cursor()"
   ]
  },
  {
   "cell_type": "code",
   "execution_count": 2,
   "metadata": {
    "collapsed": false
   },
   "outputs": [],
   "source": [
    "# create and execute our query\n",
    "cylinders = 4\n",
    "cursor = c.execute(f\"SELECT * FROM results WHERE cylinders = {cylinders}\")"
   ]
  },
  {
   "cell_type": "code",
   "execution_count": 3,
   "metadata": {
    "collapsed": false
   },
   "outputs": [
    {
     "output_type": "stream",
     "name": "stdout",
     "text": "['mpg', 'cylinders', 'displacement', 'horsepower', 'weight', 'acceleration', 'year', 'origin', 'name']\ntoyota corona mark ii:\t24.0\ndatsun pl510:\t27.0\nvolkswagen 1131 deluxe sedan:\t26.0\npeugeot 504:\t25.0\naudi 100 ls:\t24.0\nsaab 99e:\t25.0\nbmw 2002:\t26.0\ndatsun pl510:\t27.0\nchevrolet vega 2300:\t28.0\ntoyota corona:\t25.0\nford pinto:\t25.0\nchevrolet vega (sw):\t22.0\nmercury capri 2000:\t23.0\nopel 1900:\t28.0\npeugeot 304:\t30.0\nfiat 124b:\t30.0\ntoyota corolla 1200:\t31.0\ndatsun 1200:\t35.0\nvolkswagen model 111:\t27.0\nplymouth cricket:\t26.0\ntoyota corona hardtop:\t24.0\ndodge colt hardtop:\t25.0\nvolkswagen type 3:\t23.0\nchevrolet vega:\t20.0\nford pinto runabout:\t21.0\nvolvo 145e (sw):\t18.0\nvolkswagen 411 (sw):\t22.0\npeugeot 504 (sw):\t21.0\nrenault 12 (sw):\t26.0\nford pinto (sw):\t22.0\ndatsun 510 (sw):\t28.0\ntoyouta corona mark ii (sw):\t23.0\ndodge colt (sw):\t28.0\ntoyota corolla 1600 (sw):\t27.0\nvolkswagen super beetle:\t26.0\ntoyota carina:\t20.0\nchevrolet vega:\t21.0\ndatsun 610:\t22.0\nford pinto:\t19.0\nfiat 124 sport coupe:\t26.0\nfiat 128:\t29.0\nopel manta:\t24.0\naudi 100ls:\t20.0\nvolvo 144ea:\t19.0\nsaab 99le:\t24.0\ndatsun b210:\t31.0\nford pinto:\t26.0\ntoyota corolla 1200:\t32.0\nchevrolet vega:\t25.0\naudi fox:\t29.0\nvolkswagen dasher:\t26.0\nopel manta:\t26.0\ntoyota corona:\t31.0\ndatsun 710:\t32.0\ndodge colt:\t28.0\nfiat 128:\t24.0\nfiat 124 tc:\t26.0\nhonda civic:\t24.0\nsubaru:\t26.0\nfiat x1.9:\t31.0\ntoyota corolla:\t29.0\nford pinto:\t23.0\npontiac astro:\t23.0\ntoyota corona:\t24.0\nvolkswagen dasher:\t25.0\ndatsun 710:\t24.0\nvolkswagen rabbit:\t29.0\naudi 100ls:\t23.0\npeugeot 504:\t23.0\nvolvo 244dl:\t22.0\nsaab 99le:\t25.0\nhonda civic cvcc:\t33.0\nfiat 131:\t28.0\nopel 1900:\t25.0\ncapri ii:\t25.0\ndodge colt:\t26.0\nrenault 12tl:\t27.0\nchevrolet chevette:\t29.0\nchevrolet woody:\t24.5\nvw rabbit:\t29.0\nhonda civic:\t33.0\nvolkswagen rabbit:\t29.5\ndatsun b-210:\t32.0\ntoyota corolla:\t28.0\nford pinto:\t26.5\nvolvo 245:\t20.0\npeugeot 504:\t19.0\nhonda accord cvcc:\t31.5\nbuick opel isuzu deluxe:\t30.0\nrenault 5 gtl:\t36.0\nplymouth arrow gs:\t25.5\ndatsun f-10 hatchback:\t33.5\nvolkswagen rabbit custom:\t29.0\npontiac sunbird coupe:\t24.5\ntoyota corolla liftback:\t26.0\nford mustang ii 2+2:\t25.5\nchevrolet chevette:\t30.5\ndodge colt m/m:\t33.5\nsubaru dl:\t30.0\nvolkswagen dasher:\t30.5\nbmw 320i:\t21.5\nvolkswagen rabbit custom diesel:\t43.1\nford fiesta:\t36.1\nmazda glc deluxe:\t32.8\ndatsun b210 gx:\t39.4\nhonda civic cvcc:\t36.1\nford fairmont (man):\t25.1\nchevrolet chevette:\t30.0\ntoyota corona:\t27.5\ndatsun 510:\t27.2\ndodge omni:\t30.9\ntoyota celica gt liftback:\t21.1\nplymouth sapporo:\t23.2\noldsmobile starfire sx:\t23.8\ndatsun 200-sx:\t23.9\nsaab 99gle:\t21.6\nvolkswagen scirocco:\t31.5\nhonda accord lx:\t29.5\nford fairmont 4:\t22.3\nvw rabbit custom:\t31.9\nmaxda glc deluxe:\t34.1\ndodge colt hatchback custom:\t35.7\namc spirit dl:\t27.4\npeugeot 504:\t27.2\nplymouth horizon:\t34.2\nplymouth horizon tc3:\t34.5\ndatsun 210:\t31.8\nfiat strada custom:\t37.3\nbuick skylark limited:\t28.4\npontiac phoenix:\t33.5\nvw rabbit:\t41.5\ntoyota corolla tercel:\t38.1\nchevrolet chevette:\t32.1\ndatsun 310:\t37.2\nchevrolet citation:\t28.0\nford fairmont:\t26.4\namc concord:\t24.3\naudi 4000:\t34.3\ntoyota corona liftback:\t29.8\nmazda 626:\t31.3\ndatsun 510 hatchback:\t37.0\ntoyota corolla:\t32.2\nmazda glc:\t46.6\ndodge colt:\t27.9\ndatsun 210:\t40.8\nvw rabbit c (diesel):\t44.3\nvw dasher (diesel):\t43.4\nmercedes-benz 240d:\t30.0\nhonda civic 1500 gl:\t44.6\nrenault lecar deluxe:\t40.9\nsubaru dl:\t33.8\nvokswagen rabbit:\t29.8\ntriumph tr7 coupe:\t35.0\nford mustang cobra:\t23.6\nhonda accord:\t32.4\nplymouth reliant:\t27.2\nbuick skylark:\t26.6\ndodge aries wagon (sw):\t25.8\nplymouth reliant:\t30.0\ntoyota starlet:\t39.1\nplymouth champ:\t39.0\nhonda civic 1300:\t35.1\nsubaru:\t32.3\ndatsun 210 mpg:\t37.0\ntoyota tercel:\t37.7\nmazda glc 4:\t34.1\nplymouth horizon 4:\t34.7\nford escort 4w:\t34.4\nford escort 2h:\t29.9\nvolkswagen jetta:\t33.0\nrenault 18i:\t34.5\nhonda prelude:\t33.7\ntoyota corolla:\t32.4\ndatsun 200sx:\t32.9\nmazda 626:\t31.6\npeugeot 505s turbo diesel:\t28.1\nchevrolet cavalier:\t28.0\nchevrolet cavalier wagon:\t27.0\nchevrolet cavalier 2-door:\t34.0\npontiac j2000 se hatchback:\t31.0\ndodge aries se:\t29.0\npontiac phoenix:\t27.0\nford fairmont futura:\t24.0\nvolkswagen rabbit l:\t36.0\nmazda glc custom l:\t37.0\nmazda glc custom:\t31.0\nplymouth horizon miser:\t38.0\nmercury lynx l:\t36.0\nnissan stanza xe:\t36.0\nhonda accord:\t36.0\ntoyota corolla:\t34.0\nhonda civic:\t38.0\nhonda civic (auto):\t32.0\ndatsun 310 gx:\t38.0\nchrysler lebaron medallion:\t26.0\ntoyota celica gt:\t32.0\ndodge charger 2.2:\t36.0\nchevrolet camaro:\t27.0\nford mustang gl:\t27.0\nvw pickup:\t44.0\ndodge rampage:\t32.0\nford ranger:\t28.0\nchevy s-10:\t31.0\n"
    }
   ],
   "source": [
    "# fetch a list of the column names\n",
    "column_names = list(map(lambda x: x[0], cursor.description))\n",
    "\n",
    "print(column_names)\n",
    "\n",
    "# fetch all rows and map column names onto them\n",
    "rows = list(map(lambda x: dict(zip(column_names, x)), cursor.fetchall()))\n",
    "\n",
    "# print the name and MPG for each result\n",
    "for row in rows:\n",
    "    print(\"{name}:\\t{mpg}\".format(**row))"
   ]
  },
  {
   "cell_type": "markdown",
   "metadata": {},
   "source": [
    "# Using SQL from pandas"
   ]
  },
  {
   "cell_type": "code",
   "execution_count": 4,
   "metadata": {
    "collapsed": false
   },
   "outputs": [
    {
     "output_type": "execute_result",
     "data": {
      "text/plain": "    mpg  cylinders  displacement horsepower  weight  acceleration  year  \\\n0  18.0          8         307.0        130  3504.0          12.0    70   \n1  15.0          8         350.0        165  3693.0          11.5    70   \n2  18.0          8         318.0        150  3436.0          11.0    70   \n3  16.0          8         304.0        150  3433.0          12.0    70   \n4  17.0          8         302.0        140  3449.0          10.5    70   \n\n   origin                       name  \n0       1  chevrolet chevelle malibu  \n1       1          buick skylark 320  \n2       1         plymouth satellite  \n3       1              amc rebel sst  \n4       1                ford torino  ",
      "text/html": "<div>\n<style scoped>\n    .dataframe tbody tr th:only-of-type {\n        vertical-align: middle;\n    }\n\n    .dataframe tbody tr th {\n        vertical-align: top;\n    }\n\n    .dataframe thead th {\n        text-align: right;\n    }\n</style>\n<table border=\"1\" class=\"dataframe\">\n  <thead>\n    <tr style=\"text-align: right;\">\n      <th></th>\n      <th>mpg</th>\n      <th>cylinders</th>\n      <th>displacement</th>\n      <th>horsepower</th>\n      <th>weight</th>\n      <th>acceleration</th>\n      <th>year</th>\n      <th>origin</th>\n      <th>name</th>\n    </tr>\n  </thead>\n  <tbody>\n    <tr>\n      <th>0</th>\n      <td>18.0</td>\n      <td>8</td>\n      <td>307.0</td>\n      <td>130</td>\n      <td>3504.0</td>\n      <td>12.0</td>\n      <td>70</td>\n      <td>1</td>\n      <td>chevrolet chevelle malibu</td>\n    </tr>\n    <tr>\n      <th>1</th>\n      <td>15.0</td>\n      <td>8</td>\n      <td>350.0</td>\n      <td>165</td>\n      <td>3693.0</td>\n      <td>11.5</td>\n      <td>70</td>\n      <td>1</td>\n      <td>buick skylark 320</td>\n    </tr>\n    <tr>\n      <th>2</th>\n      <td>18.0</td>\n      <td>8</td>\n      <td>318.0</td>\n      <td>150</td>\n      <td>3436.0</td>\n      <td>11.0</td>\n      <td>70</td>\n      <td>1</td>\n      <td>plymouth satellite</td>\n    </tr>\n    <tr>\n      <th>3</th>\n      <td>16.0</td>\n      <td>8</td>\n      <td>304.0</td>\n      <td>150</td>\n      <td>3433.0</td>\n      <td>12.0</td>\n      <td>70</td>\n      <td>1</td>\n      <td>amc rebel sst</td>\n    </tr>\n    <tr>\n      <th>4</th>\n      <td>17.0</td>\n      <td>8</td>\n      <td>302.0</td>\n      <td>140</td>\n      <td>3449.0</td>\n      <td>10.5</td>\n      <td>70</td>\n      <td>1</td>\n      <td>ford torino</td>\n    </tr>\n  </tbody>\n</table>\n</div>"
     },
     "metadata": {},
     "execution_count": 4
    }
   ],
   "source": [
    "import pandas as pd\n",
    "df = pd.read_sql_query(\"SELECT * from results\", conn)\n",
    "df.head()"
   ]
  },
  {
   "cell_type": "markdown",
   "metadata": {},
   "source": [
    "### Simple query"
   ]
  },
  {
   "cell_type": "code",
   "execution_count": 5,
   "metadata": {},
   "outputs": [
    {
     "output_type": "execute_result",
     "data": {
      "text/plain": "      mpg  displacement               name\n0    28.0         107.0           fiat 131\n1    25.0         116.0          opel 1900\n2    25.0         140.0           capri ii\n3    26.0          98.0         dodge colt\n4    27.0         101.0       renault 12tl\n..    ...           ...                ...\n165  32.0         144.0   toyota celica gt\n166  36.0         135.0  dodge charger 2.2\n167  27.0         151.0   chevrolet camaro\n168  27.0         140.0    ford mustang gl\n169  32.0         135.0      dodge rampage\n\n[170 rows x 3 columns]",
      "text/html": "<div>\n<style scoped>\n    .dataframe tbody tr th:only-of-type {\n        vertical-align: middle;\n    }\n\n    .dataframe tbody tr th {\n        vertical-align: top;\n    }\n\n    .dataframe thead th {\n        text-align: right;\n    }\n</style>\n<table border=\"1\" class=\"dataframe\">\n  <thead>\n    <tr style=\"text-align: right;\">\n      <th></th>\n      <th>mpg</th>\n      <th>displacement</th>\n      <th>name</th>\n    </tr>\n  </thead>\n  <tbody>\n    <tr>\n      <th>0</th>\n      <td>28.0</td>\n      <td>107.0</td>\n      <td>fiat 131</td>\n    </tr>\n    <tr>\n      <th>1</th>\n      <td>25.0</td>\n      <td>116.0</td>\n      <td>opel 1900</td>\n    </tr>\n    <tr>\n      <th>2</th>\n      <td>25.0</td>\n      <td>140.0</td>\n      <td>capri ii</td>\n    </tr>\n    <tr>\n      <th>3</th>\n      <td>26.0</td>\n      <td>98.0</td>\n      <td>dodge colt</td>\n    </tr>\n    <tr>\n      <th>4</th>\n      <td>27.0</td>\n      <td>101.0</td>\n      <td>renault 12tl</td>\n    </tr>\n    <tr>\n      <th>...</th>\n      <td>...</td>\n      <td>...</td>\n      <td>...</td>\n    </tr>\n    <tr>\n      <th>165</th>\n      <td>32.0</td>\n      <td>144.0</td>\n      <td>toyota celica gt</td>\n    </tr>\n    <tr>\n      <th>166</th>\n      <td>36.0</td>\n      <td>135.0</td>\n      <td>dodge charger 2.2</td>\n    </tr>\n    <tr>\n      <th>167</th>\n      <td>27.0</td>\n      <td>151.0</td>\n      <td>chevrolet camaro</td>\n    </tr>\n    <tr>\n      <th>168</th>\n      <td>27.0</td>\n      <td>140.0</td>\n      <td>ford mustang gl</td>\n    </tr>\n    <tr>\n      <th>169</th>\n      <td>32.0</td>\n      <td>135.0</td>\n      <td>dodge rampage</td>\n    </tr>\n  </tbody>\n</table>\n<p>170 rows × 3 columns</p>\n</div>"
     },
     "metadata": {},
     "execution_count": 5
    }
   ],
   "source": [
    "pd.read_sql_query(\n",
    "\"\"\"\n",
    "SELECT  \n",
    "    mpg, \n",
    "    displacement,\n",
    "    name\n",
    "FROM results\n",
    "--- this is a SQL code comment\n",
    "WHERE year > 75\n",
    "    and acceleration < 18\n",
    "\"\"\", \n",
    "    con=conn\n",
    ")"
   ]
  },
  {
   "cell_type": "markdown",
   "metadata": {},
   "source": [
    "### more complex query using Groupbys"
   ]
  },
  {
   "cell_type": "code",
   "execution_count": 6,
   "metadata": {},
   "outputs": [
    {
     "output_type": "execute_result",
     "data": {
      "text/plain": "     avg_mpg  sum_mpg          hp  AVG(acceleration)\n0  31.446565   4119.5   74.809160          16.551145\n1  27.366667     82.1   82.333333          18.633333\n2  22.600000     45.2  105.000000          13.000000\n3  21.440000    964.8  103.977778          16.224444\n4  17.270588    587.2  140.382353          14.144118",
      "text/html": "<div>\n<style scoped>\n    .dataframe tbody tr th:only-of-type {\n        vertical-align: middle;\n    }\n\n    .dataframe tbody tr th {\n        vertical-align: top;\n    }\n\n    .dataframe thead th {\n        text-align: right;\n    }\n</style>\n<table border=\"1\" class=\"dataframe\">\n  <thead>\n    <tr style=\"text-align: right;\">\n      <th></th>\n      <th>avg_mpg</th>\n      <th>sum_mpg</th>\n      <th>hp</th>\n      <th>AVG(acceleration)</th>\n    </tr>\n  </thead>\n  <tbody>\n    <tr>\n      <th>0</th>\n      <td>31.446565</td>\n      <td>4119.5</td>\n      <td>74.809160</td>\n      <td>16.551145</td>\n    </tr>\n    <tr>\n      <th>1</th>\n      <td>27.366667</td>\n      <td>82.1</td>\n      <td>82.333333</td>\n      <td>18.633333</td>\n    </tr>\n    <tr>\n      <th>2</th>\n      <td>22.600000</td>\n      <td>45.2</td>\n      <td>105.000000</td>\n      <td>13.000000</td>\n    </tr>\n    <tr>\n      <th>3</th>\n      <td>21.440000</td>\n      <td>964.8</td>\n      <td>103.977778</td>\n      <td>16.224444</td>\n    </tr>\n    <tr>\n      <th>4</th>\n      <td>17.270588</td>\n      <td>587.2</td>\n      <td>140.382353</td>\n      <td>14.144118</td>\n    </tr>\n  </tbody>\n</table>\n</div>"
     },
     "metadata": {},
     "execution_count": 6
    }
   ],
   "source": [
    "pd.read_sql(\n",
    "\"\"\"\n",
    "SELECT  \n",
    "    AVG(mpg) as avg_mpg,\n",
    "    SUM(mpg) as sum_mpg,\n",
    "    AVG(horsepower) as hp,\n",
    "    AVG(acceleration)\n",
    "FROM results\n",
    "WHERE year > 75\n",
    "GROUP BY cylinders\n",
    "ORDER BY avg_mpg DESC\n",
    "\"\"\", \n",
    "    con=conn\n",
    ")"
   ]
  },
  {
   "cell_type": "markdown",
   "metadata": {},
   "source": [
    "### Making a new table"
   ]
  },
  {
   "cell_type": "code",
   "execution_count": 11,
   "metadata": {},
   "outputs": [],
   "source": [
    "df.to_sql(\n",
    "    name=\"test_output\",\n",
    "    con=conn, \n",
    "    schema=None, \n",
    "    if_exists='replace', \n",
    "    index=True, \n",
    ")"
   ]
  },
  {
   "cell_type": "code",
   "execution_count": 12,
   "metadata": {},
   "outputs": [
    {
     "output_type": "execute_result",
     "data": {
      "text/plain": "   index   mpg  cylinders  displacement horsepower  weight  acceleration  \\\n0      0  18.0          8         307.0      130.0  3504.0          12.0   \n1      1  15.0          8         350.0      165.0  3693.0          11.5   \n2      2  18.0          8         318.0      150.0  3436.0          11.0   \n3      3  16.0          8         304.0      150.0  3433.0          12.0   \n4      4  17.0          8         302.0      140.0  3449.0          10.5   \n5      5  15.0          8         429.0      198.0  4341.0          10.0   \n6      6  14.0          8         454.0      220.0  4354.0           9.0   \n7      7  14.0          8         440.0      215.0  4312.0           8.5   \n8      8  14.0          8         455.0      225.0  4425.0          10.0   \n9      9  15.0          8         390.0      190.0  3850.0           8.5   \n\n   year  origin                       name  \n0    70       1  chevrolet chevelle malibu  \n1    70       1          buick skylark 320  \n2    70       1         plymouth satellite  \n3    70       1              amc rebel sst  \n4    70       1                ford torino  \n5    70       1           ford galaxie 500  \n6    70       1           chevrolet impala  \n7    70       1          plymouth fury iii  \n8    70       1           pontiac catalina  \n9    70       1         amc ambassador dpl  ",
      "text/html": "<div>\n<style scoped>\n    .dataframe tbody tr th:only-of-type {\n        vertical-align: middle;\n    }\n\n    .dataframe tbody tr th {\n        vertical-align: top;\n    }\n\n    .dataframe thead th {\n        text-align: right;\n    }\n</style>\n<table border=\"1\" class=\"dataframe\">\n  <thead>\n    <tr style=\"text-align: right;\">\n      <th></th>\n      <th>index</th>\n      <th>mpg</th>\n      <th>cylinders</th>\n      <th>displacement</th>\n      <th>horsepower</th>\n      <th>weight</th>\n      <th>acceleration</th>\n      <th>year</th>\n      <th>origin</th>\n      <th>name</th>\n    </tr>\n  </thead>\n  <tbody>\n    <tr>\n      <th>0</th>\n      <td>0</td>\n      <td>18.0</td>\n      <td>8</td>\n      <td>307.0</td>\n      <td>130.0</td>\n      <td>3504.0</td>\n      <td>12.0</td>\n      <td>70</td>\n      <td>1</td>\n      <td>chevrolet chevelle malibu</td>\n    </tr>\n    <tr>\n      <th>1</th>\n      <td>1</td>\n      <td>15.0</td>\n      <td>8</td>\n      <td>350.0</td>\n      <td>165.0</td>\n      <td>3693.0</td>\n      <td>11.5</td>\n      <td>70</td>\n      <td>1</td>\n      <td>buick skylark 320</td>\n    </tr>\n    <tr>\n      <th>2</th>\n      <td>2</td>\n      <td>18.0</td>\n      <td>8</td>\n      <td>318.0</td>\n      <td>150.0</td>\n      <td>3436.0</td>\n      <td>11.0</td>\n      <td>70</td>\n      <td>1</td>\n      <td>plymouth satellite</td>\n    </tr>\n    <tr>\n      <th>3</th>\n      <td>3</td>\n      <td>16.0</td>\n      <td>8</td>\n      <td>304.0</td>\n      <td>150.0</td>\n      <td>3433.0</td>\n      <td>12.0</td>\n      <td>70</td>\n      <td>1</td>\n      <td>amc rebel sst</td>\n    </tr>\n    <tr>\n      <th>4</th>\n      <td>4</td>\n      <td>17.0</td>\n      <td>8</td>\n      <td>302.0</td>\n      <td>140.0</td>\n      <td>3449.0</td>\n      <td>10.5</td>\n      <td>70</td>\n      <td>1</td>\n      <td>ford torino</td>\n    </tr>\n    <tr>\n      <th>5</th>\n      <td>5</td>\n      <td>15.0</td>\n      <td>8</td>\n      <td>429.0</td>\n      <td>198.0</td>\n      <td>4341.0</td>\n      <td>10.0</td>\n      <td>70</td>\n      <td>1</td>\n      <td>ford galaxie 500</td>\n    </tr>\n    <tr>\n      <th>6</th>\n      <td>6</td>\n      <td>14.0</td>\n      <td>8</td>\n      <td>454.0</td>\n      <td>220.0</td>\n      <td>4354.0</td>\n      <td>9.0</td>\n      <td>70</td>\n      <td>1</td>\n      <td>chevrolet impala</td>\n    </tr>\n    <tr>\n      <th>7</th>\n      <td>7</td>\n      <td>14.0</td>\n      <td>8</td>\n      <td>440.0</td>\n      <td>215.0</td>\n      <td>4312.0</td>\n      <td>8.5</td>\n      <td>70</td>\n      <td>1</td>\n      <td>plymouth fury iii</td>\n    </tr>\n    <tr>\n      <th>8</th>\n      <td>8</td>\n      <td>14.0</td>\n      <td>8</td>\n      <td>455.0</td>\n      <td>225.0</td>\n      <td>4425.0</td>\n      <td>10.0</td>\n      <td>70</td>\n      <td>1</td>\n      <td>pontiac catalina</td>\n    </tr>\n    <tr>\n      <th>9</th>\n      <td>9</td>\n      <td>15.0</td>\n      <td>8</td>\n      <td>390.0</td>\n      <td>190.0</td>\n      <td>3850.0</td>\n      <td>8.5</td>\n      <td>70</td>\n      <td>1</td>\n      <td>amc ambassador dpl</td>\n    </tr>\n  </tbody>\n</table>\n</div>"
     },
     "metadata": {},
     "execution_count": 12
    }
   ],
   "source": [
    "### Note the LIMIT operator. It's the equivalent of df.head(10)\n",
    "pd.read_sql(\"select * from test_output limit 10\", con=conn)"
   ]
  },
  {
   "cell_type": "code",
   "execution_count": 13,
   "metadata": {},
   "outputs": [],
   "source": [
    "# pd.read_sql(\n",
    "# \"\"\"\n",
    "# create table test_2 (\n",
    "#     mpg float,\n",
    "#     cylinders int,\n",
    "#     displacement float,\n",
    "#     horsepower float,\n",
    "#     weight float,\n",
    "#     acceleration float,\n",
    "#     year int,\n",
    "#     origin int,\n",
    "#     name varchar(256)\n",
    "# );\n",
    "# \"\"\", con=conn)"
   ]
  },
  {
   "cell_type": "markdown",
   "metadata": {},
   "source": [
    "### List  tables in a database\n",
    "\n",
    "Table and index names can be list by doing a **SELECT** on a special table named \"***SQLITE_MASTER***\". Every SQLite database has an SQLITE_MASTER table that defines the schema for the database. For tables, the ***type*** field will always be '***table***' and the name field will be the name of the table. So to get a list of all tables in the database, use the following SELECT command:\n",
    "\n",
    "See more at https://www.sqlite.org/faq.html#q7."
   ]
  },
  {
   "cell_type": "code",
   "execution_count": null,
   "metadata": {},
   "outputs": [],
   "source": [
    "pd.read_sql(\"SELECT name FROM sqlite_master WHERE type='table'\", con=conn)"
   ]
  },
  {
   "cell_type": "markdown",
   "metadata": {},
   "source": [
    "# Making a new DB\n",
    "\n",
    "Is as simple as connecting to a new file name"
   ]
  },
  {
   "cell_type": "code",
   "execution_count": 2,
   "metadata": {},
   "outputs": [],
   "source": [
    "conn = sqlite3.connect('test.sqlite')"
   ]
  }
 ],
 "metadata": {
  "kernelspec": {
   "display_name": "Python 3",
   "language": "python",
   "name": "python3"
  },
  "language_info": {
   "codemirror_mode": {
    "name": "ipython",
    "version": 2
   },
   "file_extension": ".py",
   "mimetype": "text/x-python",
   "name": "python",
   "nbconvert_exporter": "python",
   "pygments_lexer": "ipython2",
   "version": "3.7.4-final"
  }
 },
 "nbformat": 4,
 "nbformat_minor": 1
}