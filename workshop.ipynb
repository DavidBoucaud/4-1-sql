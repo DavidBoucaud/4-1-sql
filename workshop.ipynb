{
 "nbformat": 4,
 "nbformat_minor": 2,
 "metadata": {
  "language_info": {
   "name": "python",
   "codemirror_mode": {
    "name": "ipython",
    "version": 3
   },
   "version": "3.8.3-final"
  },
  "orig_nbformat": 2,
  "file_extension": ".py",
  "mimetype": "text/x-python",
  "name": "python",
  "npconvert_exporter": "python",
  "pygments_lexer": "ipython3",
  "version": 3,
  "kernelspec": {
   "name": "python3",
   "display_name": "Python 3",
   "language": "python"
  }
 },
 "cells": [
  {
   "cell_type": "code",
   "execution_count": 1,
   "metadata": {},
   "outputs": [],
   "source": [
    "import sqlite3\n",
    "import pandas as pd"
   ]
  },
  {
   "cell_type": "markdown",
   "metadata": {},
   "source": [
    "# 1.1 Movies Database\n",
    "\n",
    "Take the movies dataset and turn it into a single `sqlite` database. It should have one table for each csv file in the movies dataset"
   ]
  },
  {
   "cell_type": "code",
   "execution_count": 2,
   "metadata": {},
   "outputs": [],
   "source": [
    "credits_df = pd.read_csv(r'C:\\Users\\David\\Documents\\code\\archive\\credits.csv')\n",
    "keywords_df = pd.read_csv(r'C:\\Users\\David\\Documents\\code\\archive\\keywords.csv')\n",
    "linkss_df = pd.read_csv(r'C:\\Users\\David\\Documents\\code\\archive\\links_small.csv')\n",
    "meta_df = pd.read_csv(r'C:\\Users\\David\\Documents\\code\\archive\\movies_metadata.csv')\n",
    "ratingss_df = pd.read_csv(r'C:\\Users\\David\\Documents\\code\\archive\\ratings_small.csv')\n",
    "ratings_df = pd.read_csv(r'C:\\Users\\David\\Documents\\code\\archive\\ratings.csv')\n",
    "\n",
    "conn = sqlite3.connect('Kaggle_Movies')\n",
    "c = conn.cursor()\n",
    "\n",
    "credits_df.to_sql(\n",
    "    name=\"credits\",\n",
    "    con=conn, \n",
    "    schema=None, \n",
    "    if_exists='replace', \n",
    "    index=True, \n",
    ")\n",
    "keywords_df.to_sql(\n",
    "    name=\"keywords\",\n",
    "    con=conn, \n",
    "    schema=None, \n",
    "    if_exists='replace', \n",
    "    index=True, \n",
    ")\n",
    "linkss_df.to_sql(\n",
    "    name=\"links_small\",\n",
    "    con=conn, \n",
    "    schema=None, \n",
    "    if_exists='replace', \n",
    "    index=True, \n",
    ")\n",
    "meta_df.to_sql(\n",
    "    name=\"meta\",\n",
    "    con=conn, \n",
    "    schema=None, \n",
    "    if_exists='replace', \n",
    "    index=True, \n",
    ")\n",
    "ratingss_df.to_sql(\n",
    "    name=\"ratings_small\",\n",
    "    con=conn, \n",
    "    schema=None, \n",
    "    if_exists='replace', \n",
    "    index=True, \n",
    ")\n",
    "ratings_df.to_sql(\n",
    "    name=\"ratings\",\n",
    "    con=conn, \n",
    "    schema=None, \n",
    "    if_exists='replace', \n",
    "    index=True, \n",
    ")"
   ]
  },
  {
   "cell_type": "markdown",
   "metadata": {},
   "source": [
    "# 1.2 Queries\n",
    "\n",
    "**1.2.1** Use a single query to pull the original title of movies with a budget above $5m\n",
    "\n",
    "**1.2.2** Use a query to pull the english-language films with the word `war` in their title\n",
    "\n",
    "**1.2.3** Left join the average ratings from the `ratings` table onto the `movies_metadata` table, so you can have a relation between budget and rating. Hint: use a subquery."
   ]
  },
  {
   "cell_type": "code",
   "execution_count": null,
   "metadata": {},
   "outputs": [],
   "source": [
    "#1.2.1\n",
    "pd.read_sql(\n",
    "\"\"\"\n",
    "SELECT *\n",
    "FROM meta\n",
    "WHERE budget > 5000000\n",
    "\"\"\", \n",
    "    con=conn\n",
    ")"
   ]
  },
  {
   "cell_type": "code",
   "execution_count": null,
   "metadata": {},
   "outputs": [],
   "source": [
    "#1.2.2\n",
    "pd.read_sql(\n",
    "\"\"\"\n",
    "SELECT *\n",
    "FROM meta\n",
    "WHERE original_language = 'en'\n",
    "    and original_title LIKE '%war%'\n",
    "\"\"\", \n",
    "    con=conn\n",
    ")"
   ]
  },
  {
   "cell_type": "code",
   "execution_count": null,
   "metadata": {},
   "outputs": [],
   "source": [
    "#1.2.3\n",
    "\n",
    "pd.read_sql(\n",
    "\"\"\"\n",
    "SELECT *\n",
    "FROM meta \n",
    "LEFT JOIN (\n",
    "\n",
    "SELECT movieId, \n",
    "AVG (rating) \n",
    "FROM ratings \n",
    "GROUP BY movieId\n",
    "\n",
    ")\n",
    "    ON meta.id = movieId \n",
    "\"\"\", con=conn)"
   ]
  },
  {
   "cell_type": "markdown",
   "metadata": {},
   "source": [
    "# 2. Baseball Database\n",
    "\n",
    "The [Baseball Database](http://www.seanlahman.com/baseball-archive/statistics/) has an sqlite version. Download it for these exercises.\n",
    "\n",
    "**2.1** Which player has had the most homeruns?\n",
    "\n",
    "**2.2** Is there a relation between how many homeruns a player has made in a year and his salary that year? Pull both colums together in a single query\n",
    "\n"
   ]
  },
  {
   "cell_type": "code",
   "execution_count": 53,
   "metadata": {},
   "outputs": [
    {
     "output_type": "execute_result",
     "data": {
      "text/plain": [
       "  nameFirst nameLast  MAX(HR)\n",
       "0     Barry    Bonds       73"
      ],
      "text/html": "<div>\n<style scoped>\n    .dataframe tbody tr th:only-of-type {\n        vertical-align: middle;\n    }\n\n    .dataframe tbody tr th {\n        vertical-align: top;\n    }\n\n    .dataframe thead th {\n        text-align: right;\n    }\n</style>\n<table border=\"1\" class=\"dataframe\">\n  <thead>\n    <tr style=\"text-align: right;\">\n      <th></th>\n      <th>nameFirst</th>\n      <th>nameLast</th>\n      <th>MAX(HR)</th>\n    </tr>\n  </thead>\n  <tbody>\n    <tr>\n      <th>0</th>\n      <td>Barry</td>\n      <td>Bonds</td>\n      <td>73</td>\n    </tr>\n  </tbody>\n</table>\n</div>"
     },
     "metadata": {},
     "execution_count": 53
    }
   ],
   "source": [
    "conn = sqlite3.connect(r'C:\\Users\\David\\Documents\\code\\lahmansbaseballdb.sqlite')\n",
    "\n",
    "# 2.1\n",
    "pd.read_sql(\n",
    "\"\"\"\n",
    "SELECT nameFirst, nameLast, MAX(HR)\n",
    "FROM (\n",
    "SELECT *\n",
    "FROM batting \n",
    "LEFT JOIN people\n",
    "    ON batting.playerID = people.playerID \n",
    "    )\n",
    "\"\"\", con=conn)\n",
    "\n"
   ]
  },
  {
   "cell_type": "code",
   "execution_count": 52,
   "metadata": {},
   "outputs": [
    {
     "output_type": "execute_result",
     "data": {
      "text/plain": [
       "         playerID  HR      salary\n",
       "0       abercda01   0         NaN\n",
       "1        addybo01   0         NaN\n",
       "2       allisar01   0         NaN\n",
       "3       allisdo01   2         NaN\n",
       "4       ansonca01   0         NaN\n",
       "...           ...  ..         ...\n",
       "382156  zobribe01   1   7000000.0\n",
       "382157  zobribe01   1   7500000.0\n",
       "382158  zobribe01   1  10500000.0\n",
       "382159  zuninmi01   9    504100.0\n",
       "382160  zuninmi01   9    523500.0\n",
       "\n",
       "[382161 rows x 3 columns]"
      ],
      "text/html": "<div>\n<style scoped>\n    .dataframe tbody tr th:only-of-type {\n        vertical-align: middle;\n    }\n\n    .dataframe tbody tr th {\n        vertical-align: top;\n    }\n\n    .dataframe thead th {\n        text-align: right;\n    }\n</style>\n<table border=\"1\" class=\"dataframe\">\n  <thead>\n    <tr style=\"text-align: right;\">\n      <th></th>\n      <th>playerID</th>\n      <th>HR</th>\n      <th>salary</th>\n    </tr>\n  </thead>\n  <tbody>\n    <tr>\n      <th>0</th>\n      <td>abercda01</td>\n      <td>0</td>\n      <td>NaN</td>\n    </tr>\n    <tr>\n      <th>1</th>\n      <td>addybo01</td>\n      <td>0</td>\n      <td>NaN</td>\n    </tr>\n    <tr>\n      <th>2</th>\n      <td>allisar01</td>\n      <td>0</td>\n      <td>NaN</td>\n    </tr>\n    <tr>\n      <th>3</th>\n      <td>allisdo01</td>\n      <td>2</td>\n      <td>NaN</td>\n    </tr>\n    <tr>\n      <th>4</th>\n      <td>ansonca01</td>\n      <td>0</td>\n      <td>NaN</td>\n    </tr>\n    <tr>\n      <th>...</th>\n      <td>...</td>\n      <td>...</td>\n      <td>...</td>\n    </tr>\n    <tr>\n      <th>382156</th>\n      <td>zobribe01</td>\n      <td>1</td>\n      <td>7000000.0</td>\n    </tr>\n    <tr>\n      <th>382157</th>\n      <td>zobribe01</td>\n      <td>1</td>\n      <td>7500000.0</td>\n    </tr>\n    <tr>\n      <th>382158</th>\n      <td>zobribe01</td>\n      <td>1</td>\n      <td>10500000.0</td>\n    </tr>\n    <tr>\n      <th>382159</th>\n      <td>zuninmi01</td>\n      <td>9</td>\n      <td>504100.0</td>\n    </tr>\n    <tr>\n      <th>382160</th>\n      <td>zuninmi01</td>\n      <td>9</td>\n      <td>523500.0</td>\n    </tr>\n  </tbody>\n</table>\n<p>382161 rows × 3 columns</p>\n</div>"
     },
     "metadata": {},
     "execution_count": 52
    }
   ],
   "source": [
    "# 2.2\n",
    "pd.read_sql(\n",
    "\"\"\"\n",
    "SELECT playerID, HR, salary\n",
    "FROM (\n",
    "SELECT *\n",
    "FROM batting \n",
    "LEFT JOIN salaries\n",
    "    ON batting.playerID = salaries.playerID \n",
    "    )\n",
    "\"\"\", con=conn)"
   ]
  },
  {
   "cell_type": "code",
   "execution_count": 55,
   "metadata": {},
   "outputs": [
    {
     "output_type": "execute_result",
     "data": {
      "text/plain": [
       "              HR    salary\n",
       "HR      1.000000  0.260229\n",
       "salary  0.260229  1.000000"
      ],
      "text/html": "<div>\n<style scoped>\n    .dataframe tbody tr th:only-of-type {\n        vertical-align: middle;\n    }\n\n    .dataframe tbody tr th {\n        vertical-align: top;\n    }\n\n    .dataframe thead th {\n        text-align: right;\n    }\n</style>\n<table border=\"1\" class=\"dataframe\">\n  <thead>\n    <tr style=\"text-align: right;\">\n      <th></th>\n      <th>HR</th>\n      <th>salary</th>\n    </tr>\n  </thead>\n  <tbody>\n    <tr>\n      <th>HR</th>\n      <td>1.000000</td>\n      <td>0.260229</td>\n    </tr>\n    <tr>\n      <th>salary</th>\n      <td>0.260229</td>\n      <td>1.000000</td>\n    </tr>\n  </tbody>\n</table>\n</div>"
     },
     "metadata": {},
     "execution_count": 55
    }
   ],
   "source": [
    "# 2.2 (continue'd)\n",
    "# To actually answer the question\n",
    "df = pd.read_sql(\n",
    "\"\"\"\n",
    "SELECT playerID, HR, salary\n",
    "FROM (\n",
    "SELECT *\n",
    "FROM batting \n",
    "LEFT JOIN salaries\n",
    "    ON batting.playerID = salaries.playerID \n",
    "    )\n",
    "\"\"\", con=conn)\n",
    "\n",
    "df.corr()\n",
    "#Somewhat, yes."
   ]
  }
 ]
}